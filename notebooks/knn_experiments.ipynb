{
 "cells": [
  {
   "cell_type": "markdown",
   "metadata": {},
   "source": [
    "### Load libs"
   ]
  },
  {
   "cell_type": "code",
   "execution_count": 417,
   "metadata": {},
   "outputs": [],
   "source": [
    "import pandas as pd\n",
    "import numpy as np\n",
    "from tqdm.autonotebook import tqdm\n",
    "from pprint import pprint\n",
    "from implicit.nearest_neighbours import CosineRecommender, TFIDFRecommender\n",
    "from rectools.metrics import Precision, Recall, MeanInvUserFreq, Serendipity, MAP, calc_metrics\n",
    "from rectools import Columns\n",
    "from rectools.models.popular import PopularModel\n",
    "from rectools.model_selection import TimeRangeSplitter\n",
    "from rectools.dataset import Dataset, Interactions\n",
    "from userknn import UserKnn\n",
    "import warnings\n",
    "import pickle\n",
    "\n",
    "warnings.filterwarnings(\"ignore\")\n",
    "pd.set_option('display.float_format', lambda x: f'{x:,.6f}')"
   ]
  },
  {
   "cell_type": "code",
   "execution_count": 415,
   "metadata": {},
   "outputs": [
    {
     "name": "stdout",
     "output_type": "stream",
     "text": [
      " Volume in drive C has no label.\n",
      " Volume Serial Number is 26D9-E12B\n",
      "\n",
      " Directory of c:\\repos\\RecSys\n",
      "\n",
      "27.11.2023  12:23    <DIR>          .\n",
      "27.11.2023  12:23    <DIR>          ..\n",
      "15.11.2023  19:34                87 .dockerignore\n",
      "15.11.2023  19:34               377 .editorconfig\n",
      "15.11.2023  19:34    <DIR>          .github\n",
      "26.11.2023  21:17               977 .gitignore\n",
      "15.11.2023  19:34            15 982 .pylintrc\n",
      "15.11.2023  23:03    <DIR>          .pytest_cache\n",
      "22.11.2023  14:05    <DIR>          .venv\n",
      "15.11.2023  21:51    <DIR>          .vscode\n",
      "15.11.2023  19:34               730 Dockerfile\n",
      "15.11.2023  19:34             3 790 gunicorn.config.py\n",
      "15.11.2023  19:34               327 main.py\n",
      "15.11.2023  19:34             1 058 Makefile\n",
      "27.11.2023  03:39    <DIR>          notebooks\n",
      "26.11.2023  15:11           167 708 poetry.lock\n",
      "15.11.2023  19:34                49 poetry.toml\n",
      "26.11.2023  15:11               963 pyproject.toml\n",
      "15.11.2023  19:34             8 973 README.md\n",
      "26.11.2023  15:20    <DIR>          service\n",
      "15.11.2023  19:34             6 855 setup.cfg\n",
      "21.11.2023  02:36    <DIR>          tests\n",
      "26.11.2023  18:52    <DIR>          __pycache__\n",
      "              13 File(s)        207 876 bytes\n",
      "              10 Dir(s)  384 208 998 400 bytes free\n"
     ]
    }
   ],
   "source": [
    "!cd .. && dir"
   ]
  },
  {
   "cell_type": "code",
   "execution_count": 414,
   "metadata": {},
   "outputs": [
    {
     "name": "stdout",
     "output_type": "stream",
     "text": [
      " Volume in drive C has no label.\n",
      " Volume Serial Number is 26D9-E12B\n",
      "\n",
      " Directory of c:\\repos\\RecSys\\notebooks\n",
      "\n",
      "27.11.2023  03:39    <DIR>          .\n",
      "27.11.2023  03:39    <DIR>          ..\n",
      "27.11.2023  03:39                 0 cv_res.pkl\n",
      "26.11.2023  15:23    <DIR>          data_original\n",
      "27.11.2023  12:22            43 669 knn_experiments.ipynb\n",
      "26.11.2023  15:11            96 159 metric_eval.ipynb\n",
      "26.11.2023  17:12    <DIR>          __pycache__\n",
      "               3 File(s)        139 828 bytes\n",
      "               4 Dir(s)  384 205 750 272 bytes free\n"
     ]
    }
   ],
   "source": [
    "!dir"
   ]
  },
  {
   "cell_type": "markdown",
   "metadata": {},
   "source": [
    "### Load data"
   ]
  },
  {
   "cell_type": "code",
   "execution_count": 393,
   "metadata": {},
   "outputs": [],
   "source": [
    "interactions = pd.read_csv('data_original/interactions.csv')\n",
    "users = pd.read_csv('data_original/users.csv')\n",
    "items = pd.read_csv('data_original/items.csv')"
   ]
  },
  {
   "cell_type": "code",
   "execution_count": 395,
   "metadata": {},
   "outputs": [],
   "source": [
    "interactions = interactions.rename(columns={'total_dur': Columns.Weight, \n",
    "                                            'last_watch_dt': Columns.Datetime}) # change columns for rectools\n",
    "\n",
    "interactions['datetime'] = pd.to_datetime(interactions['datetime'])"
   ]
  },
  {
   "cell_type": "code",
   "execution_count": 396,
   "metadata": {},
   "outputs": [
    {
     "data": {
      "text/html": [
       "<div>\n",
       "<style scoped>\n",
       "    .dataframe tbody tr th:only-of-type {\n",
       "        vertical-align: middle;\n",
       "    }\n",
       "\n",
       "    .dataframe tbody tr th {\n",
       "        vertical-align: top;\n",
       "    }\n",
       "\n",
       "    .dataframe thead th {\n",
       "        text-align: right;\n",
       "    }\n",
       "</style>\n",
       "<table border=\"1\" class=\"dataframe\">\n",
       "  <thead>\n",
       "    <tr style=\"text-align: right;\">\n",
       "      <th></th>\n",
       "      <th>user_id</th>\n",
       "      <th>item_id</th>\n",
       "      <th>datetime</th>\n",
       "      <th>weight</th>\n",
       "      <th>watched_pct</th>\n",
       "    </tr>\n",
       "  </thead>\n",
       "  <tbody>\n",
       "    <tr>\n",
       "      <th>0</th>\n",
       "      <td>176549</td>\n",
       "      <td>9506</td>\n",
       "      <td>2021-05-11</td>\n",
       "      <td>4250</td>\n",
       "      <td>72.000000</td>\n",
       "    </tr>\n",
       "    <tr>\n",
       "      <th>1</th>\n",
       "      <td>699317</td>\n",
       "      <td>1659</td>\n",
       "      <td>2021-05-29</td>\n",
       "      <td>8317</td>\n",
       "      <td>100.000000</td>\n",
       "    </tr>\n",
       "    <tr>\n",
       "      <th>2</th>\n",
       "      <td>656683</td>\n",
       "      <td>7107</td>\n",
       "      <td>2021-05-09</td>\n",
       "      <td>10</td>\n",
       "      <td>0.000000</td>\n",
       "    </tr>\n",
       "    <tr>\n",
       "      <th>3</th>\n",
       "      <td>864613</td>\n",
       "      <td>7638</td>\n",
       "      <td>2021-07-05</td>\n",
       "      <td>14483</td>\n",
       "      <td>100.000000</td>\n",
       "    </tr>\n",
       "    <tr>\n",
       "      <th>4</th>\n",
       "      <td>964868</td>\n",
       "      <td>9506</td>\n",
       "      <td>2021-04-30</td>\n",
       "      <td>6725</td>\n",
       "      <td>100.000000</td>\n",
       "    </tr>\n",
       "  </tbody>\n",
       "</table>\n",
       "</div>"
      ],
      "text/plain": [
       "   user_id  item_id   datetime  weight  watched_pct\n",
       "0   176549     9506 2021-05-11    4250    72.000000\n",
       "1   699317     1659 2021-05-29    8317   100.000000\n",
       "2   656683     7107 2021-05-09      10     0.000000\n",
       "3   864613     7638 2021-07-05   14483   100.000000\n",
       "4   964868     9506 2021-04-30    6725   100.000000"
      ]
     },
     "execution_count": 396,
     "metadata": {},
     "output_type": "execute_result"
    }
   ],
   "source": [
    "interactions.head()"
   ]
  },
  {
   "cell_type": "code",
   "execution_count": 7,
   "metadata": {},
   "outputs": [
    {
     "data": {
      "text/html": [
       "<div>\n",
       "<style scoped>\n",
       "    .dataframe tbody tr th:only-of-type {\n",
       "        vertical-align: middle;\n",
       "    }\n",
       "\n",
       "    .dataframe tbody tr th {\n",
       "        vertical-align: top;\n",
       "    }\n",
       "\n",
       "    .dataframe thead th {\n",
       "        text-align: right;\n",
       "    }\n",
       "</style>\n",
       "<table border=\"1\" class=\"dataframe\">\n",
       "  <thead>\n",
       "    <tr style=\"text-align: right;\">\n",
       "      <th></th>\n",
       "      <th>user_id</th>\n",
       "      <th>age</th>\n",
       "      <th>income</th>\n",
       "      <th>sex</th>\n",
       "      <th>kids_flg</th>\n",
       "    </tr>\n",
       "  </thead>\n",
       "  <tbody>\n",
       "    <tr>\n",
       "      <th>0</th>\n",
       "      <td>973171</td>\n",
       "      <td>age_25_34</td>\n",
       "      <td>income_60_90</td>\n",
       "      <td>М</td>\n",
       "      <td>1</td>\n",
       "    </tr>\n",
       "    <tr>\n",
       "      <th>1</th>\n",
       "      <td>962099</td>\n",
       "      <td>age_18_24</td>\n",
       "      <td>income_20_40</td>\n",
       "      <td>М</td>\n",
       "      <td>0</td>\n",
       "    </tr>\n",
       "    <tr>\n",
       "      <th>2</th>\n",
       "      <td>1047345</td>\n",
       "      <td>age_45_54</td>\n",
       "      <td>income_40_60</td>\n",
       "      <td>Ж</td>\n",
       "      <td>0</td>\n",
       "    </tr>\n",
       "    <tr>\n",
       "      <th>3</th>\n",
       "      <td>721985</td>\n",
       "      <td>age_45_54</td>\n",
       "      <td>income_20_40</td>\n",
       "      <td>Ж</td>\n",
       "      <td>0</td>\n",
       "    </tr>\n",
       "    <tr>\n",
       "      <th>4</th>\n",
       "      <td>704055</td>\n",
       "      <td>age_35_44</td>\n",
       "      <td>income_60_90</td>\n",
       "      <td>Ж</td>\n",
       "      <td>0</td>\n",
       "    </tr>\n",
       "  </tbody>\n",
       "</table>\n",
       "</div>"
      ],
      "text/plain": [
       "   user_id        age        income sex  kids_flg\n",
       "0   973171  age_25_34  income_60_90   М         1\n",
       "1   962099  age_18_24  income_20_40   М         0\n",
       "2  1047345  age_45_54  income_40_60   Ж         0\n",
       "3   721985  age_45_54  income_20_40   Ж         0\n",
       "4   704055  age_35_44  income_60_90   Ж         0"
      ]
     },
     "execution_count": 7,
     "metadata": {},
     "output_type": "execute_result"
    }
   ],
   "source": [
    "users.head()"
   ]
  },
  {
   "cell_type": "code",
   "execution_count": 8,
   "metadata": {},
   "outputs": [
    {
     "data": {
      "text/html": [
       "<div>\n",
       "<style scoped>\n",
       "    .dataframe tbody tr th:only-of-type {\n",
       "        vertical-align: middle;\n",
       "    }\n",
       "\n",
       "    .dataframe tbody tr th {\n",
       "        vertical-align: top;\n",
       "    }\n",
       "\n",
       "    .dataframe thead th {\n",
       "        text-align: right;\n",
       "    }\n",
       "</style>\n",
       "<table border=\"1\" class=\"dataframe\">\n",
       "  <thead>\n",
       "    <tr style=\"text-align: right;\">\n",
       "      <th></th>\n",
       "      <th>item_id</th>\n",
       "      <th>content_type</th>\n",
       "      <th>title</th>\n",
       "      <th>title_orig</th>\n",
       "      <th>release_year</th>\n",
       "      <th>genres</th>\n",
       "      <th>countries</th>\n",
       "      <th>for_kids</th>\n",
       "      <th>age_rating</th>\n",
       "      <th>studios</th>\n",
       "      <th>directors</th>\n",
       "      <th>actors</th>\n",
       "      <th>description</th>\n",
       "      <th>keywords</th>\n",
       "    </tr>\n",
       "  </thead>\n",
       "  <tbody>\n",
       "    <tr>\n",
       "      <th>0</th>\n",
       "      <td>10711</td>\n",
       "      <td>film</td>\n",
       "      <td>Поговори с ней</td>\n",
       "      <td>Hable con ella</td>\n",
       "      <td>2,002.000000</td>\n",
       "      <td>драмы, зарубежные, детективы, мелодрамы</td>\n",
       "      <td>Испания</td>\n",
       "      <td>NaN</td>\n",
       "      <td>16.000000</td>\n",
       "      <td>NaN</td>\n",
       "      <td>Педро Альмодовар</td>\n",
       "      <td>Адольфо Фернандес, Ана Фернандес, Дарио Гранди...</td>\n",
       "      <td>Мелодрама легендарного Педро Альмодовара «Пого...</td>\n",
       "      <td>Поговори, ней, 2002, Испания, друзья, любовь, ...</td>\n",
       "    </tr>\n",
       "    <tr>\n",
       "      <th>1</th>\n",
       "      <td>2508</td>\n",
       "      <td>film</td>\n",
       "      <td>Голые перцы</td>\n",
       "      <td>Search Party</td>\n",
       "      <td>2,014.000000</td>\n",
       "      <td>зарубежные, приключения, комедии</td>\n",
       "      <td>США</td>\n",
       "      <td>NaN</td>\n",
       "      <td>16.000000</td>\n",
       "      <td>NaN</td>\n",
       "      <td>Скот Армстронг</td>\n",
       "      <td>Адам Палли, Брайан Хаски, Дж.Б. Смув, Джейсон ...</td>\n",
       "      <td>Уморительная современная комедия на популярную...</td>\n",
       "      <td>Голые, перцы, 2014, США, друзья, свадьбы, прео...</td>\n",
       "    </tr>\n",
       "    <tr>\n",
       "      <th>2</th>\n",
       "      <td>10716</td>\n",
       "      <td>film</td>\n",
       "      <td>Тактическая сила</td>\n",
       "      <td>Tactical Force</td>\n",
       "      <td>2,011.000000</td>\n",
       "      <td>криминал, зарубежные, триллеры, боевики, комедии</td>\n",
       "      <td>Канада</td>\n",
       "      <td>NaN</td>\n",
       "      <td>16.000000</td>\n",
       "      <td>NaN</td>\n",
       "      <td>Адам П. Калтраро</td>\n",
       "      <td>Адриан Холмс, Даррен Шалави, Джерри Вассерман,...</td>\n",
       "      <td>Профессиональный рестлер Стив Остин («Все или ...</td>\n",
       "      <td>Тактическая, сила, 2011, Канада, бандиты, ганг...</td>\n",
       "    </tr>\n",
       "    <tr>\n",
       "      <th>3</th>\n",
       "      <td>7868</td>\n",
       "      <td>film</td>\n",
       "      <td>45 лет</td>\n",
       "      <td>45 Years</td>\n",
       "      <td>2,015.000000</td>\n",
       "      <td>драмы, зарубежные, мелодрамы</td>\n",
       "      <td>Великобритания</td>\n",
       "      <td>NaN</td>\n",
       "      <td>16.000000</td>\n",
       "      <td>NaN</td>\n",
       "      <td>Эндрю Хэй</td>\n",
       "      <td>Александра Риддлстон-Барретт, Джеральдин Джейм...</td>\n",
       "      <td>Шарлотта Рэмплинг, Том Кортни, Джеральдин Джей...</td>\n",
       "      <td>45, лет, 2015, Великобритания, брак, жизнь, лю...</td>\n",
       "    </tr>\n",
       "    <tr>\n",
       "      <th>4</th>\n",
       "      <td>16268</td>\n",
       "      <td>film</td>\n",
       "      <td>Все решает мгновение</td>\n",
       "      <td>NaN</td>\n",
       "      <td>1,978.000000</td>\n",
       "      <td>драмы, спорт, советские, мелодрамы</td>\n",
       "      <td>СССР</td>\n",
       "      <td>NaN</td>\n",
       "      <td>12.000000</td>\n",
       "      <td>Ленфильм</td>\n",
       "      <td>Виктор Садовский</td>\n",
       "      <td>Александр Абдулов, Александр Демьяненко, Алекс...</td>\n",
       "      <td>Расчетливая чаровница из советского кинохита «...</td>\n",
       "      <td>Все, решает, мгновение, 1978, СССР, сильные, ж...</td>\n",
       "    </tr>\n",
       "  </tbody>\n",
       "</table>\n",
       "</div>"
      ],
      "text/plain": [
       "   item_id content_type                 title      title_orig  release_year  \\\n",
       "0    10711         film        Поговори с ней  Hable con ella  2,002.000000   \n",
       "1     2508         film           Голые перцы    Search Party  2,014.000000   \n",
       "2    10716         film      Тактическая сила  Tactical Force  2,011.000000   \n",
       "3     7868         film                45 лет        45 Years  2,015.000000   \n",
       "4    16268         film  Все решает мгновение             NaN  1,978.000000   \n",
       "\n",
       "                                             genres       countries  for_kids  \\\n",
       "0           драмы, зарубежные, детективы, мелодрамы         Испания       NaN   \n",
       "1                  зарубежные, приключения, комедии             США       NaN   \n",
       "2  криминал, зарубежные, триллеры, боевики, комедии          Канада       NaN   \n",
       "3                      драмы, зарубежные, мелодрамы  Великобритания       NaN   \n",
       "4                драмы, спорт, советские, мелодрамы            СССР       NaN   \n",
       "\n",
       "   age_rating   studios         directors  \\\n",
       "0   16.000000       NaN  Педро Альмодовар   \n",
       "1   16.000000       NaN    Скот Армстронг   \n",
       "2   16.000000       NaN  Адам П. Калтраро   \n",
       "3   16.000000       NaN         Эндрю Хэй   \n",
       "4   12.000000  Ленфильм  Виктор Садовский   \n",
       "\n",
       "                                              actors  \\\n",
       "0  Адольфо Фернандес, Ана Фернандес, Дарио Гранди...   \n",
       "1  Адам Палли, Брайан Хаски, Дж.Б. Смув, Джейсон ...   \n",
       "2  Адриан Холмс, Даррен Шалави, Джерри Вассерман,...   \n",
       "3  Александра Риддлстон-Барретт, Джеральдин Джейм...   \n",
       "4  Александр Абдулов, Александр Демьяненко, Алекс...   \n",
       "\n",
       "                                         description  \\\n",
       "0  Мелодрама легендарного Педро Альмодовара «Пого...   \n",
       "1  Уморительная современная комедия на популярную...   \n",
       "2  Профессиональный рестлер Стив Остин («Все или ...   \n",
       "3  Шарлотта Рэмплинг, Том Кортни, Джеральдин Джей...   \n",
       "4  Расчетливая чаровница из советского кинохита «...   \n",
       "\n",
       "                                            keywords  \n",
       "0  Поговори, ней, 2002, Испания, друзья, любовь, ...  \n",
       "1  Голые, перцы, 2014, США, друзья, свадьбы, прео...  \n",
       "2  Тактическая, сила, 2011, Канада, бандиты, ганг...  \n",
       "3  45, лет, 2015, Великобритания, брак, жизнь, лю...  \n",
       "4  Все, решает, мгновение, 1978, СССР, сильные, ж...  "
      ]
     },
     "execution_count": 8,
     "metadata": {},
     "output_type": "execute_result"
    }
   ],
   "source": [
    "items.head()"
   ]
  },
  {
   "cell_type": "markdown",
   "metadata": {},
   "source": [
    "### Split data"
   ]
  },
  {
   "cell_type": "code",
   "execution_count": 34,
   "metadata": {},
   "outputs": [
    {
     "name": "stdout",
     "output_type": "stream",
     "text": [
      "train: (4985269, 5)\n",
      "test: (349088, 5)\n"
     ]
    }
   ],
   "source": [
    "max_date = interactions['datetime'].max()\n",
    "\n",
    "train = interactions[(interactions['datetime'] < max_date - pd.Timedelta(days=7))] # We use 7 days as a trend\n",
    "test = interactions[(interactions['datetime'] >= max_date - pd.Timedelta(days=7))]\n",
    "\n",
    "\n",
    "# оставляем только теплых пользователей в тесте\n",
    "test = test[test['user_id'].isin(train['user_id'].unique())]\n",
    "\n",
    "\n",
    "\n",
    "print(f\"train: {train.shape}\")\n",
    "print(f\"test: {test.shape}\")"
   ]
  },
  {
   "cell_type": "markdown",
   "metadata": {},
   "source": [
    "### Set up Popular model"
   ]
  },
  {
   "cell_type": "code",
   "execution_count": 10,
   "metadata": {},
   "outputs": [],
   "source": [
    "dataset = Dataset.construct(\n",
    "    interactions_df=train,\n",
    "    user_features_df=None,\n",
    "    item_features_df=None\n",
    ")"
   ]
  },
  {
   "cell_type": "code",
   "execution_count": 27,
   "metadata": {},
   "outputs": [],
   "source": [
    "pop = PopularModel()\n",
    "pop.fit(dataset);"
   ]
  },
  {
   "cell_type": "code",
   "execution_count": 52,
   "metadata": {},
   "outputs": [
    {
     "data": {
      "text/html": [
       "<div>\n",
       "<style scoped>\n",
       "    .dataframe tbody tr th:only-of-type {\n",
       "        vertical-align: middle;\n",
       "    }\n",
       "\n",
       "    .dataframe tbody tr th {\n",
       "        vertical-align: top;\n",
       "    }\n",
       "\n",
       "    .dataframe thead th {\n",
       "        text-align: right;\n",
       "    }\n",
       "</style>\n",
       "<table border=\"1\" class=\"dataframe\">\n",
       "  <thead>\n",
       "    <tr style=\"text-align: right;\">\n",
       "      <th></th>\n",
       "      <th>user_id</th>\n",
       "      <th>item_id</th>\n",
       "      <th>score</th>\n",
       "      <th>rank</th>\n",
       "    </tr>\n",
       "  </thead>\n",
       "  <tbody>\n",
       "    <tr>\n",
       "      <th>0</th>\n",
       "      <td>176549</td>\n",
       "      <td>10440</td>\n",
       "      <td>187,877.000000</td>\n",
       "      <td>1</td>\n",
       "    </tr>\n",
       "    <tr>\n",
       "      <th>1</th>\n",
       "      <td>176549</td>\n",
       "      <td>15297</td>\n",
       "      <td>178,630.000000</td>\n",
       "      <td>2</td>\n",
       "    </tr>\n",
       "    <tr>\n",
       "      <th>2</th>\n",
       "      <td>176549</td>\n",
       "      <td>9728</td>\n",
       "      <td>117,779.000000</td>\n",
       "      <td>3</td>\n",
       "    </tr>\n",
       "    <tr>\n",
       "      <th>3</th>\n",
       "      <td>176549</td>\n",
       "      <td>13865</td>\n",
       "      <td>113,875.000000</td>\n",
       "      <td>4</td>\n",
       "    </tr>\n",
       "    <tr>\n",
       "      <th>4</th>\n",
       "      <td>176549</td>\n",
       "      <td>4151</td>\n",
       "      <td>85,117.000000</td>\n",
       "      <td>5</td>\n",
       "    </tr>\n",
       "  </tbody>\n",
       "</table>\n",
       "</div>"
      ],
      "text/plain": [
       "   user_id  item_id          score  rank\n",
       "0   176549    10440 187,877.000000     1\n",
       "1   176549    15297 178,630.000000     2\n",
       "2   176549     9728 117,779.000000     3\n",
       "3   176549    13865 113,875.000000     4\n",
       "4   176549     4151  85,117.000000     5"
      ]
     },
     "execution_count": 52,
     "metadata": {},
     "output_type": "execute_result"
    }
   ],
   "source": [
    "pop_recs = pop.recommend(\n",
    "    dataset.user_id_map.external_ids,\n",
    "    dataset=dataset,\n",
    "    k=10,\n",
    "    filter_viewed=False  # True - удаляет просмотренные айтемы из рекомендаций \n",
    ")\n",
    "\n",
    "pop_recs.head()"
   ]
  },
  {
   "cell_type": "code",
   "execution_count": 63,
   "metadata": {},
   "outputs": [
    {
     "data": {
      "text/plain": [
       "Int64Index([10440, 15297, 9728, 13865, 4151, 3734, 2657, 4880, 142, 6809], dtype='int64')"
      ]
     },
     "execution_count": 63,
     "metadata": {},
     "output_type": "execute_result"
    }
   ],
   "source": [
    "# Our baseline response for cold user\n",
    "pop_recs['item_id'].value_counts().index"
   ]
  },
  {
   "cell_type": "code",
   "execution_count": 67,
   "metadata": {},
   "outputs": [],
   "source": [
    "with open(\"most_popular.pkl\", \"wb\") as file:\n",
    "    pickle.dump(pop_recs, file)"
   ]
  },
  {
   "cell_type": "code",
   "execution_count": 109,
   "metadata": {},
   "outputs": [],
   "source": [
    "def get_popular_rec(user_id, pop_recs):\n",
    "    if user_id in pop_recs['user_id'].unique(): # If we want to filter viewed\n",
    "        recs = pop_recs[pop_recs['user_id'] == user_id]['item_id'].to_list() # get 10 items for specific user\n",
    "        return recs\n",
    "    \n",
    "    else:\n",
    "        return pop_recs['item_id'].value_counts().index.to_list() # return baseline"
   ]
  },
  {
   "cell_type": "code",
   "execution_count": 316,
   "metadata": {},
   "outputs": [
    {
     "name": "stdout",
     "output_type": "stream",
     "text": [
      "[10440, 15297, 9728, 13865, 4151, 3734, 2657, 4880, 142, 6809]\n"
     ]
    }
   ],
   "source": [
    "# User to test models\n",
    "random_user = np.random.randint(100000)\n",
    "\n",
    "print(get_popular_rec(random_user, pop_recs))"
   ]
  },
  {
   "cell_type": "code",
   "execution_count": 69,
   "metadata": {},
   "outputs": [],
   "source": [
    "# with open(\"most_popular.pkl\", \"rb\") as file:\n",
    "#     pop_recs = pickle.load(file)"
   ]
  },
  {
   "cell_type": "markdown",
   "metadata": {},
   "source": [
    "### Set up custom (from seminar) UserKNN model"
   ]
  },
  {
   "cell_type": "code",
   "execution_count": 418,
   "metadata": {},
   "outputs": [
    {
     "name": "stderr",
     "output_type": "stream",
     "text": [
      "100%|██████████| 896791/896791 [23:12<00:00, 643.89it/s] \n"
     ]
    }
   ],
   "source": [
    "knn = UserKnn(model=TFIDFRecommender(K=30))\n",
    "knn.fit(train)"
   ]
  },
  {
   "cell_type": "code",
   "execution_count": 419,
   "metadata": {},
   "outputs": [],
   "source": [
    "knn_preds = knn.predict(test)"
   ]
  },
  {
   "cell_type": "markdown",
   "metadata": {},
   "source": [
    "#### Let's save dict user_id: List[item_id1, item_id2] to use in offline model"
   ]
  },
  {
   "cell_type": "code",
   "execution_count": 420,
   "metadata": {},
   "outputs": [],
   "source": [
    "knn_preds = (knn_preds.groupby(['user_id'])\n",
    "        .agg({'item_id': lambda x: x.tolist()})\n",
    "        .reset_index()\n",
    "        .set_index('user_id')\n",
    "        .to_dict()['item_id']\n",
    ")"
   ]
  },
  {
   "cell_type": "code",
   "execution_count": 421,
   "metadata": {},
   "outputs": [],
   "source": [
    "with open(\"../service/recmodels/knn_preds.pkl\", \"wb\") as file:\n",
    "    pickle.dump(knn_preds, file)"
   ]
  },
  {
   "cell_type": "markdown",
   "metadata": {},
   "source": [
    "#### And save model for online"
   ]
  },
  {
   "cell_type": "code",
   "execution_count": 422,
   "metadata": {},
   "outputs": [],
   "source": [
    "with open(\"../service/recmodels/tfidf_knn.pkl\", \"wb\") as file:\n",
    "    pickle.dump(knn, file)"
   ]
  },
  {
   "cell_type": "code",
   "execution_count": 187,
   "metadata": {},
   "outputs": [],
   "source": [
    "def get_knn_reco(user_id, knn):\n",
    "    if user_id in list(knn.users_mapping):\n",
    "        recs = knn.predict(pd.DataFrame([user_id], columns=['user_id'])) # user_id -> [item_id1, item_id2...]\n",
    "        \n",
    "        return recs['item_id'].to_list()\n",
    "    else:\n",
    "        return []"
   ]
  },
  {
   "cell_type": "markdown",
   "metadata": {},
   "source": [
    "#### To process cold users and recos not fulfilled we will use popular_based approach "
   ]
  },
  {
   "cell_type": "code",
   "execution_count": 349,
   "metadata": {},
   "outputs": [],
   "source": [
    "def get_reco(user_id, knn, pop_recs):\n",
    "        reco = get_knn_reco(user_id, knn)\n",
    "        if not reco:\n",
    "            reco = get_popular_rec(user_id, pop_recs)\n",
    "        if len(reco) < 10:\n",
    "            reco = list(pd.unique(reco + get_popular_rec(user_id, pop_recs)))[:10]\n",
    "            \n",
    "        return reco"
   ]
  },
  {
   "cell_type": "code",
   "execution_count": null,
   "metadata": {},
   "outputs": [
    {
     "data": {
      "text/plain": [
       "[10440]"
      ]
     },
     "execution_count": 363,
     "metadata": {},
     "output_type": "execute_result"
    }
   ],
   "source": [
    "# Only one item predicted\n",
    "get_knn_reco(1, knn)"
   ]
  },
  {
   "cell_type": "code",
   "execution_count": 364,
   "metadata": {},
   "outputs": [
    {
     "name": "stdout",
     "output_type": "stream",
     "text": [
      "[10440, 15297, 9728, 13865, 4151, 3734, 2657, 4880, 142, 6809]\n"
     ]
    }
   ],
   "source": [
    "print(get_reco(1, knn, pop_recs))"
   ]
  },
  {
   "cell_type": "code",
   "execution_count": 365,
   "metadata": {},
   "outputs": [
    {
     "name": "stdout",
     "output_type": "stream",
     "text": [
      "[3518, 2451, 12828, 9696, 12837, 10732, 1819, 288, 496, 849]\n"
     ]
    }
   ],
   "source": [
    "print(get_reco(random_user, knn, pop_recs))"
   ]
  },
  {
   "cell_type": "markdown",
   "metadata": {},
   "source": [
    "### Check parameters and models, count metrics"
   ]
  },
  {
   "cell_type": "code",
   "execution_count": 408,
   "metadata": {},
   "outputs": [],
   "source": [
    "def metrics_count(interactions, models, metrics, cv, K_RECOS, n_splits=3):\n",
    "    # For each fold generate train and test part of dataset\n",
    "    # Then fit every model, generate recommendations and calculate metrics\n",
    "\n",
    "    results = []\n",
    "\n",
    "    fold_iterator = cv.split(interactions, collect_fold_stats=True)\n",
    "\n",
    "    for train_ids, test_ids, fold_info in tqdm((fold_iterator), total=n_splits):\n",
    "        print(f\"\\n==================== Fold {fold_info['i_split']} ====================\")\n",
    "        pprint(fold_info)\n",
    "\n",
    "        df_train = interactions.df.iloc[train_ids]\n",
    "        dataset = Dataset.construct(df_train)\n",
    "\n",
    "        df_test = interactions.df.iloc[test_ids][Columns.UserItem]\n",
    "        test_users = np.unique(df_test[Columns.User])\n",
    "\n",
    "        # Catalog is set of items that we recommend.\n",
    "        # Sometimes we recommend not all items from train.\n",
    "        catalog = df_train[Columns.Item].unique()\n",
    "\n",
    "        for model_name, model in models.items():\n",
    "            model.fit(df_train)\n",
    "            recos = model.predict(df_train)\n",
    "            metric_values = calc_metrics(\n",
    "                metrics,\n",
    "                reco=recos,\n",
    "                interactions=df_test,\n",
    "                prev_interactions=df_train,\n",
    "                catalog=catalog,\n",
    "            )\n",
    "            res = {\"fold\": fold_info[\"i_split\"], \"model\": model_name}\n",
    "            res.update(metric_values)\n",
    "            results.append(res)\n",
    "        \n",
    "    pivot_results = pd.DataFrame(results).drop(columns=\"fold\").groupby([\"model\"], sort=False).agg([\"mean\"])\n",
    "    mean_metric_subset = [(metric, agg) for metric, agg in pivot_results.columns if agg == 'mean']\n",
    "    \n",
    "    pivot_results = pivot_results.style \\\n",
    "        .highlight_min(subset=mean_metric_subset, color='lightcoral', axis=0) \\\n",
    "        .highlight_max(subset=mean_metric_subset, color='lightgreen', axis=0)\n",
    "    \n",
    "    \n",
    "    display(pivot_results)\n",
    "            \n",
    "    return pivot_results"
   ]
  },
  {
   "cell_type": "code",
   "execution_count": 409,
   "metadata": {},
   "outputs": [],
   "source": [
    "# calculate several classic (precision@k and recall@k) and \"beyond accuracy\" metrics\n",
    "metrics = {\n",
    "    'map@10': MAP(k=10),\n",
    "    'novelty': MeanInvUserFreq(k=10),\n",
    "    \"prec@10\": Precision(k=10),\n",
    "    \"recall\": Recall(k=10),\n",
    "    \"serendipity\": Serendipity(k=10),\n",
    "}\n",
    "\n",
    "# few simple models to compare\n",
    "models = {\n",
    "    '10k_cosine_userknn': UserKnn(CosineRecommender(K=10)), \n",
    "    '30k_cosine_userknn': UserKnn(CosineRecommender(K=30)),\n",
    "    '10k_tfidf_userknn': UserKnn(TFIDFRecommender(K=10)),\n",
    "    '30k_tfidf_userknn': UserKnn(TFIDFRecommender(K=30))\n",
    "}\n",
    "\n",
    "K_RECOS = 10\n",
    "\n",
    "n_splits = 3\n",
    "\n",
    "cv = TimeRangeSplitter(\n",
    "    test_size=\"7D\",\n",
    "    n_splits=n_splits,\n",
    "    filter_already_seen=True,\n",
    "    filter_cold_items=True,\n",
    "    filter_cold_users=True,\n",
    ")"
   ]
  },
  {
   "cell_type": "code",
   "execution_count": 410,
   "metadata": {},
   "outputs": [
    {
     "name": "stderr",
     "output_type": "stream",
     "text": [
      "  0%|          | 0/3 [00:00<?, ?it/s]"
     ]
    },
    {
     "name": "stdout",
     "output_type": "stream",
     "text": [
      "\n",
      "==================== Fold 0 ====================\n",
      "{'end': Timestamp('2021-08-09 00:00:00', freq='7D'),\n",
      " 'i_split': 0,\n",
      " 'start': Timestamp('2021-08-02 00:00:00', freq='7D'),\n",
      " 'test': 263681,\n",
      " 'test_items': 6602,\n",
      " 'test_users': 98184,\n",
      " 'train': 4266013,\n",
      " 'train_items': 15237,\n",
      " 'train_users': 797423}\n"
     ]
    },
    {
     "name": "stderr",
     "output_type": "stream",
     "text": [
      "100%|██████████| 797423/797423 [17:38<00:00, 753.03it/s] \n",
      "100%|██████████| 797423/797423 [18:00<00:00, 738.00it/s] \n",
      "100%|██████████| 797423/797423 [17:46<00:00, 747.74it/s] \n",
      "100%|██████████| 797423/797423 [17:42<00:00, 750.80it/s] \n",
      " 33%|███▎      | 1/3 [1:20:56<2:41:52, 4856.01s/it]"
     ]
    },
    {
     "name": "stdout",
     "output_type": "stream",
     "text": [
      "\n",
      "==================== Fold 1 ====================\n",
      "{'end': Timestamp('2021-08-16 00:00:00', freq='7D'),\n",
      " 'i_split': 1,\n",
      " 'start': Timestamp('2021-08-09 00:00:00', freq='7D'),\n",
      " 'test': 279422,\n",
      " 'test_items': 6698,\n",
      " 'test_users': 103511,\n",
      " 'train': 4649162,\n",
      " 'train_items': 15415,\n",
      " 'train_users': 850489}\n"
     ]
    },
    {
     "name": "stderr",
     "output_type": "stream",
     "text": [
      "100%|██████████| 850489/850489 [20:39<00:00, 686.37it/s] \n",
      "100%|██████████| 850489/850489 [20:31<00:00, 690.58it/s] \n",
      "100%|██████████| 850489/850489 [21:26<00:00, 661.30it/s] \n",
      "100%|██████████| 850489/850489 [21:24<00:00, 662.06it/s] \n",
      " 67%|██████▋   | 2/3 [2:55:35<1:29:00, 5340.57s/it]"
     ]
    },
    {
     "name": "stdout",
     "output_type": "stream",
     "text": [
      "\n",
      "==================== Fold 2 ====================\n",
      "{'end': Timestamp('2021-08-23 00:00:00', freq='7D'),\n",
      " 'i_split': 2,\n",
      " 'start': Timestamp('2021-08-16 00:00:00', freq='7D'),\n",
      " 'test': 298878,\n",
      " 'test_items': 6679,\n",
      " 'test_users': 110076,\n",
      " 'train': 5051815,\n",
      " 'train_items': 15577,\n",
      " 'train_users': 906071}\n"
     ]
    },
    {
     "name": "stderr",
     "output_type": "stream",
     "text": [
      "100%|██████████| 906071/906071 [23:44<00:00, 636.08it/s] \n",
      "100%|██████████| 906071/906071 [23:56<00:00, 630.59it/s] \n",
      "100%|██████████| 906071/906071 [23:52<00:00, 632.55it/s] \n",
      "100%|██████████| 906071/906071 [23:20<00:00, 646.95it/s] \n",
      "100%|██████████| 3/3 [4:41:56<00:00, 5638.74s/it]  \n"
     ]
    },
    {
     "data": {
      "text/html": [
       "<style type=\"text/css\">\n",
       "#T_27fe2_row0_col3, #T_27fe2_row0_col4, #T_27fe2_row1_col0, #T_27fe2_row1_col1, #T_27fe2_row1_col2 {\n",
       "  background-color: lightcoral;\n",
       "}\n",
       "#T_27fe2_row1_col3, #T_27fe2_row3_col0, #T_27fe2_row3_col1, #T_27fe2_row3_col2, #T_27fe2_row3_col4 {\n",
       "  background-color: lightgreen;\n",
       "}\n",
       "</style>\n",
       "<table id=\"T_27fe2\">\n",
       "  <thead>\n",
       "    <tr>\n",
       "      <th class=\"blank level0\" >&nbsp;</th>\n",
       "      <th id=\"T_27fe2_level0_col0\" class=\"col_heading level0 col0\" >prec@10</th>\n",
       "      <th id=\"T_27fe2_level0_col1\" class=\"col_heading level0 col1\" >recall</th>\n",
       "      <th id=\"T_27fe2_level0_col2\" class=\"col_heading level0 col2\" >map@10</th>\n",
       "      <th id=\"T_27fe2_level0_col3\" class=\"col_heading level0 col3\" >novelty</th>\n",
       "      <th id=\"T_27fe2_level0_col4\" class=\"col_heading level0 col4\" >serendipity</th>\n",
       "    </tr>\n",
       "    <tr>\n",
       "      <th class=\"blank level1\" >&nbsp;</th>\n",
       "      <th id=\"T_27fe2_level1_col0\" class=\"col_heading level1 col0\" >mean</th>\n",
       "      <th id=\"T_27fe2_level1_col1\" class=\"col_heading level1 col1\" >mean</th>\n",
       "      <th id=\"T_27fe2_level1_col2\" class=\"col_heading level1 col2\" >mean</th>\n",
       "      <th id=\"T_27fe2_level1_col3\" class=\"col_heading level1 col3\" >mean</th>\n",
       "      <th id=\"T_27fe2_level1_col4\" class=\"col_heading level1 col4\" >mean</th>\n",
       "    </tr>\n",
       "    <tr>\n",
       "      <th class=\"index_name level0\" >model</th>\n",
       "      <th class=\"blank col0\" >&nbsp;</th>\n",
       "      <th class=\"blank col1\" >&nbsp;</th>\n",
       "      <th class=\"blank col2\" >&nbsp;</th>\n",
       "      <th class=\"blank col3\" >&nbsp;</th>\n",
       "      <th class=\"blank col4\" >&nbsp;</th>\n",
       "    </tr>\n",
       "  </thead>\n",
       "  <tbody>\n",
       "    <tr>\n",
       "      <th id=\"T_27fe2_level0_row0\" class=\"row_heading level0 row0\" >10k_cosine_userknn</th>\n",
       "      <td id=\"T_27fe2_row0_col0\" class=\"data row0 col0\" >0.004142</td>\n",
       "      <td id=\"T_27fe2_row0_col1\" class=\"data row0 col1\" >0.020041</td>\n",
       "      <td id=\"T_27fe2_row0_col2\" class=\"data row0 col2\" >0.003958</td>\n",
       "      <td id=\"T_27fe2_row0_col3\" class=\"data row0 col3\" >6.384824</td>\n",
       "      <td id=\"T_27fe2_row0_col4\" class=\"data row0 col4\" >0.000006</td>\n",
       "    </tr>\n",
       "    <tr>\n",
       "      <th id=\"T_27fe2_level0_row1\" class=\"row_heading level0 row1\" >30k_cosine_userknn</th>\n",
       "      <td id=\"T_27fe2_row1_col0\" class=\"data row1 col0\" >0.003965</td>\n",
       "      <td id=\"T_27fe2_row1_col1\" class=\"data row1 col1\" >0.019435</td>\n",
       "      <td id=\"T_27fe2_row1_col2\" class=\"data row1 col2\" >0.003580</td>\n",
       "      <td id=\"T_27fe2_row1_col3\" class=\"data row1 col3\" >6.881218</td>\n",
       "      <td id=\"T_27fe2_row1_col4\" class=\"data row1 col4\" >0.000008</td>\n",
       "    </tr>\n",
       "    <tr>\n",
       "      <th id=\"T_27fe2_level0_row2\" class=\"row_heading level0 row2\" >10k_tfidf_userknn</th>\n",
       "      <td id=\"T_27fe2_row2_col0\" class=\"data row2 col0\" >0.005890</td>\n",
       "      <td id=\"T_27fe2_row2_col1\" class=\"data row2 col1\" >0.029503</td>\n",
       "      <td id=\"T_27fe2_row2_col2\" class=\"data row2 col2\" >0.005659</td>\n",
       "      <td id=\"T_27fe2_row2_col3\" class=\"data row2 col3\" >6.494855</td>\n",
       "      <td id=\"T_27fe2_row2_col4\" class=\"data row2 col4\" >0.000007</td>\n",
       "    </tr>\n",
       "    <tr>\n",
       "      <th id=\"T_27fe2_level0_row3\" class=\"row_heading level0 row3\" >30k_tfidf_userknn</th>\n",
       "      <td id=\"T_27fe2_row3_col0\" class=\"data row3 col0\" >0.006559</td>\n",
       "      <td id=\"T_27fe2_row3_col1\" class=\"data row3 col1\" >0.033585</td>\n",
       "      <td id=\"T_27fe2_row3_col2\" class=\"data row3 col2\" >0.006422</td>\n",
       "      <td id=\"T_27fe2_row3_col3\" class=\"data row3 col3\" >6.575160</td>\n",
       "      <td id=\"T_27fe2_row3_col4\" class=\"data row3 col4\" >0.000009</td>\n",
       "    </tr>\n",
       "  </tbody>\n",
       "</table>\n"
      ],
      "text/plain": [
       "<pandas.io.formats.style.Styler at 0x24fe6ae0190>"
      ]
     },
     "metadata": {},
     "output_type": "display_data"
    }
   ],
   "source": [
    "results = metrics_count(Interactions(interactions), models, metrics, cv, K_RECOS)"
   ]
  },
  {
   "cell_type": "markdown",
   "metadata": {},
   "source": [
    "<style type=\"text/css\">\n",
    "#T_27fe2_row0_col3, #T_27fe2_row0_col4, #T_27fe2_row1_col0, #T_27fe2_row1_col1, #T_27fe2_row1_col2 {\n",
    "  background-color: lightcoral;\n",
    "}\n",
    "#T_27fe2_row1_col3, #T_27fe2_row3_col0, #T_27fe2_row3_col1, #T_27fe2_row3_col2, #T_27fe2_row3_col4 {\n",
    "  background-color: lightgreen;\n",
    "}\n",
    "</style>\n",
    "<table id=\"T_27fe2\">\n",
    "  <thead>\n",
    "    <tr>\n",
    "      <th class=\"blank level0\" >&nbsp;</th>\n",
    "      <th id=\"T_27fe2_level0_col0\" class=\"col_heading level0 col0\" >prec@10</th>\n",
    "      <th id=\"T_27fe2_level0_col1\" class=\"col_heading level0 col1\" >recall</th>\n",
    "      <th id=\"T_27fe2_level0_col2\" class=\"col_heading level0 col2\" >map@10</th>\n",
    "      <th id=\"T_27fe2_level0_col3\" class=\"col_heading level0 col3\" >novelty</th>\n",
    "      <th id=\"T_27fe2_level0_col4\" class=\"col_heading level0 col4\" >serendipity</th>\n",
    "    </tr>\n",
    "    <tr>\n",
    "      <th class=\"blank level1\" >&nbsp;</th>\n",
    "      <th id=\"T_27fe2_level1_col0\" class=\"col_heading level1 col0\" >mean</th>\n",
    "      <th id=\"T_27fe2_level1_col1\" class=\"col_heading level1 col1\" >mean</th>\n",
    "      <th id=\"T_27fe2_level1_col2\" class=\"col_heading level1 col2\" >mean</th>\n",
    "      <th id=\"T_27fe2_level1_col3\" class=\"col_heading level1 col3\" >mean</th>\n",
    "      <th id=\"T_27fe2_level1_col4\" class=\"col_heading level1 col4\" >mean</th>\n",
    "    </tr>\n",
    "    <tr>\n",
    "      <th class=\"index_name level0\" >model</th>\n",
    "      <th class=\"blank col0\" >&nbsp;</th>\n",
    "      <th class=\"blank col1\" >&nbsp;</th>\n",
    "      <th class=\"blank col2\" >&nbsp;</th>\n",
    "      <th class=\"blank col3\" >&nbsp;</th>\n",
    "      <th class=\"blank col4\" >&nbsp;</th>\n",
    "    </tr>\n",
    "  </thead>\n",
    "  <tbody>\n",
    "    <tr>\n",
    "      <th id=\"T_27fe2_level0_row0\" class=\"row_heading level0 row0\" >10k_cosine_userknn</th>\n",
    "      <td id=\"T_27fe2_row0_col0\" class=\"data row0 col0\" >0.004142</td>\n",
    "      <td id=\"T_27fe2_row0_col1\" class=\"data row0 col1\" >0.020041</td>\n",
    "      <td id=\"T_27fe2_row0_col2\" class=\"data row0 col2\" >0.003958</td>\n",
    "      <td id=\"T_27fe2_row0_col3\" class=\"data row0 col3\" >6.384824</td>\n",
    "      <td id=\"T_27fe2_row0_col4\" class=\"data row0 col4\" >0.000006</td>\n",
    "    </tr>\n",
    "    <tr>\n",
    "      <th id=\"T_27fe2_level0_row1\" class=\"row_heading level0 row1\" >30k_cosine_userknn</th>\n",
    "      <td id=\"T_27fe2_row1_col0\" class=\"data row1 col0\" >0.003965</td>\n",
    "      <td id=\"T_27fe2_row1_col1\" class=\"data row1 col1\" >0.019435</td>\n",
    "      <td id=\"T_27fe2_row1_col2\" class=\"data row1 col2\" >0.003580</td>\n",
    "      <td id=\"T_27fe2_row1_col3\" class=\"data row1 col3\" >6.881218</td>\n",
    "      <td id=\"T_27fe2_row1_col4\" class=\"data row1 col4\" >0.000008</td>\n",
    "    </tr>\n",
    "    <tr>\n",
    "      <th id=\"T_27fe2_level0_row2\" class=\"row_heading level0 row2\" >10k_tfidf_userknn</th>\n",
    "      <td id=\"T_27fe2_row2_col0\" class=\"data row2 col0\" >0.005890</td>\n",
    "      <td id=\"T_27fe2_row2_col1\" class=\"data row2 col1\" >0.029503</td>\n",
    "      <td id=\"T_27fe2_row2_col2\" class=\"data row2 col2\" >0.005659</td>\n",
    "      <td id=\"T_27fe2_row2_col3\" class=\"data row2 col3\" >6.494855</td>\n",
    "      <td id=\"T_27fe2_row2_col4\" class=\"data row2 col4\" >0.000007</td>\n",
    "    </tr>\n",
    "    <tr>\n",
    "      <th id=\"T_27fe2_level0_row3\" class=\"row_heading level0 row3\" >30k_tfidf_userknn</th>\n",
    "      <td id=\"T_27fe2_row3_col0\" class=\"data row3 col0\" >0.006559</td>\n",
    "      <td id=\"T_27fe2_row3_col1\" class=\"data row3 col1\" >0.033585</td>\n",
    "      <td id=\"T_27fe2_row3_col2\" class=\"data row3 col2\" >0.006422</td>\n",
    "      <td id=\"T_27fe2_row3_col3\" class=\"data row3 col3\" >6.575160</td>\n",
    "      <td id=\"T_27fe2_row3_col4\" class=\"data row3 col4\" >0.000009</td>\n",
    "    </tr>\n",
    "  </tbody>\n",
    "</table>\n"
   ]
  },
  {
   "cell_type": "markdown",
   "metadata": {},
   "source": [
    "#### TF_IDF KNN на 30к соседей имеет лучший скор по всем метрикам, кроме новизны. Интересно, что кнн на косинусной близости с 10к соседями побил себя же, но на 30к"
   ]
  }
 ],
 "metadata": {
  "kernelspec": {
   "display_name": "poetry",
   "language": "python",
   "name": "python3"
  },
  "language_info": {
   "codemirror_mode": {
    "name": "ipython",
    "version": 3
   },
   "file_extension": ".py",
   "mimetype": "text/x-python",
   "name": "python",
   "nbconvert_exporter": "python",
   "pygments_lexer": "ipython3",
   "version": "3.10.11"
  }
 },
 "nbformat": 4,
 "nbformat_minor": 2
}
